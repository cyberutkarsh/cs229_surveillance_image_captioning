{
 "cells": [
  {
   "cell_type": "code",
   "execution_count": 14,
   "id": "84b928c1",
   "metadata": {},
   "outputs": [],
   "source": [
    "#!pip3 install --upgrade tensorflow-gpu"
   ]
  },
  {
   "cell_type": "code",
   "execution_count": 1,
   "id": "be3103ee",
   "metadata": {},
   "outputs": [
    {
     "name": "stdout",
     "output_type": "stream",
     "text": [
      "/mnt/batch/tasks/shared/LS_root/mounts/clusters/ml-compute-4-gpu/code/Users/utkarsh/CLIP_prefix_caption\n"
     ]
    }
   ],
   "source": [
    "!pwd"
   ]
  },
  {
   "cell_type": "code",
   "execution_count": 4,
   "id": "970e4820",
   "metadata": {},
   "outputs": [
    {
     "name": "stdout",
     "output_type": "stream",
     "text": [
      "350 captions loaded from json \n",
      "100%|█████████████████████████████████████████| 350/350 [00:43<00:00,  8.06it/s]\n",
      "Done\n",
      "350 embeddings saved \n"
     ]
    }
   ],
   "source": [
    "!python parse_coco.py --clip_model_type ViT-B/32"
   ]
  },
  {
   "cell_type": "code",
   "execution_count": 1,
   "id": "3265f952",
   "metadata": {},
   "outputs": [
    {
     "name": "stdout",
     "output_type": "stream",
     "text": [
      "2022-11-14 23:41:26.440242: W tensorflow/stream_executor/platform/default/dso_loader.cc:64] Could not load dynamic library 'libcudart.so.11.0'; dlerror: libcudart.so.11.0: cannot open shared object file: No such file or directory\n",
      "2022-11-14 23:41:26.440284: I tensorflow/stream_executor/cuda/cudart_stub.cc:29] Ignore above cudart dlerror if you do not have a GPU set up on your machine.\n",
      "/anaconda/envs/azureml_py36/lib/python3.6/site-packages/ray/autoscaler/_private/cli_logger.py:61: FutureWarning: Not all Ray CLI dependencies were found. In Ray 1.4+, the Ray CLI, autoscaler, and dashboard will only be usable via `pip install 'ray[default]'`. Please update your install command.\n",
      "  \"update your install command.\", FutureWarning)\n",
      "Failure while loading azureml_run_type_providers. Failed to load entrypoint automl = azureml.train.automl.run:AutoMLRun._from_run_dto with exception (pyarrow 6.0.1 (/home/azureuser/.local/lib/python3.6/site-packages), Requirement.parse('pyarrow<4.0.0,>=0.17.0'), {'azureml-dataset-runtime'}).\n",
      "Data size is 350\n",
      "Train both prefix and GPT\n",
      ">>> Training epoch 0\n",
      "coco_prefix: 100%|█████████████████████| 8/8 [00:11<00:00,  1.40s/it, loss=5.07]\n",
      ">>> Training epoch 1\n",
      "coco_prefix: 100%|█████████████████████| 8/8 [00:11<00:00,  1.39s/it, loss=5.26]\n",
      ">>> Training epoch 2\n",
      "coco_prefix: 100%|█████████████████████| 8/8 [00:11<00:00,  1.38s/it, loss=5.15]\n",
      ">>> Training epoch 3\n",
      "coco_prefix: 100%|█████████████████████| 8/8 [00:11<00:00,  1.39s/it, loss=4.84]\n",
      ">>> Training epoch 4\n",
      "coco_prefix: 100%|█████████████████████| 8/8 [00:11<00:00,  1.41s/it, loss=5.05]\n",
      ">>> Training epoch 5\n",
      "coco_prefix: 100%|█████████████████████| 8/8 [00:11<00:00,  1.39s/it, loss=5.01]\n",
      ">>> Training epoch 6\n",
      "coco_prefix: 100%|█████████████████████| 8/8 [00:11<00:00,  1.39s/it, loss=4.98]\n",
      ">>> Training epoch 7\n",
      "coco_prefix: 100%|█████████████████████| 8/8 [00:11<00:00,  1.41s/it, loss=5.13]\n",
      ">>> Training epoch 8\n",
      "coco_prefix: 100%|█████████████████████| 8/8 [00:11<00:00,  1.40s/it, loss=4.72]\n",
      ">>> Training epoch 9\n",
      "coco_prefix: 100%|█████████████████████| 8/8 [00:11<00:00,  1.40s/it, loss=4.96]\n",
      ">>> Training epoch 10\n",
      "coco_prefix: 100%|█████████████████████| 8/8 [00:11<00:00,  1.41s/it, loss=4.67]\n",
      ">>> Training epoch 11\n",
      "coco_prefix: 100%|█████████████████████| 8/8 [00:11<00:00,  1.40s/it, loss=4.51]\n",
      ">>> Training epoch 12\n",
      "coco_prefix: 100%|█████████████████████| 8/8 [00:11<00:00,  1.40s/it, loss=4.76]\n",
      ">>> Training epoch 13\n",
      "coco_prefix: 100%|█████████████████████| 8/8 [00:11<00:00,  1.41s/it, loss=4.62]\n",
      ">>> Training epoch 14\n",
      "coco_prefix: 100%|█████████████████████| 8/8 [00:11<00:00,  1.41s/it, loss=4.43]\n",
      ">>> Training epoch 15\n",
      "coco_prefix: 100%|█████████████████████| 8/8 [00:11<00:00,  1.41s/it, loss=4.36]\n",
      ">>> Training epoch 16\n",
      "coco_prefix: 100%|██████████████████████| 8/8 [00:11<00:00,  1.42s/it, loss=4.3]\n",
      ">>> Training epoch 17\n",
      "coco_prefix: 100%|█████████████████████| 8/8 [00:11<00:00,  1.41s/it, loss=4.34]\n",
      ">>> Training epoch 18\n",
      "coco_prefix: 100%|██████████████████████| 8/8 [00:11<00:00,  1.40s/it, loss=4.2]\n",
      ">>> Training epoch 19\n",
      "coco_prefix: 100%|█████████████████████| 8/8 [00:11<00:00,  1.42s/it, loss=4.03]\n",
      ">>> Training epoch 20\n",
      "coco_prefix: 100%|██████████████████████| 8/8 [00:11<00:00,  1.41s/it, loss=4.1]\n",
      ">>> Training epoch 21\n",
      "coco_prefix: 100%|█████████████████████| 8/8 [00:11<00:00,  1.41s/it, loss=3.91]\n",
      ">>> Training epoch 22\n",
      "coco_prefix: 100%|█████████████████████| 8/8 [00:11<00:00,  1.42s/it, loss=3.94]\n",
      ">>> Training epoch 23\n",
      "coco_prefix: 100%|█████████████████████| 8/8 [00:11<00:00,  1.41s/it, loss=3.66]\n",
      ">>> Training epoch 24\n",
      "coco_prefix: 100%|█████████████████████| 8/8 [00:11<00:00,  1.41s/it, loss=3.55]\n",
      ">>> Training epoch 25\n",
      "coco_prefix: 100%|█████████████████████| 8/8 [00:11<00:00,  1.42s/it, loss=3.55]\n",
      ">>> Training epoch 26\n",
      "coco_prefix: 100%|█████████████████████| 8/8 [00:11<00:00,  1.41s/it, loss=3.63]\n",
      ">>> Training epoch 27\n",
      "coco_prefix: 100%|█████████████████████| 8/8 [00:11<00:00,  1.41s/it, loss=3.43]\n",
      ">>> Training epoch 28\n",
      "coco_prefix: 100%|█████████████████████| 8/8 [00:11<00:00,  1.43s/it, loss=3.31]\n",
      ">>> Training epoch 29\n",
      "coco_prefix: 100%|█████████████████████| 8/8 [00:11<00:00,  1.41s/it, loss=3.25]\n",
      ">>> Training epoch 30\n",
      "coco_prefix: 100%|█████████████████████| 8/8 [00:11<00:00,  1.41s/it, loss=3.14]\n",
      ">>> Training epoch 31\n",
      "coco_prefix: 100%|█████████████████████| 8/8 [00:11<00:00,  1.42s/it, loss=3.45]\n",
      ">>> Training epoch 32\n",
      "coco_prefix: 100%|█████████████████████| 8/8 [00:11<00:00,  1.41s/it, loss=3.06]\n",
      ">>> Training epoch 33\n",
      "coco_prefix: 100%|█████████████████████| 8/8 [00:11<00:00,  1.42s/it, loss=2.94]\n",
      ">>> Training epoch 34\n",
      "coco_prefix: 100%|█████████████████████| 8/8 [00:11<00:00,  1.42s/it, loss=3.22]\n",
      ">>> Training epoch 35\n",
      "coco_prefix: 100%|█████████████████████| 8/8 [00:11<00:00,  1.42s/it, loss=2.84]\n",
      ">>> Training epoch 36\n",
      "coco_prefix: 100%|█████████████████████| 8/8 [00:11<00:00,  1.42s/it, loss=2.98]\n",
      ">>> Training epoch 37\n",
      "coco_prefix: 100%|█████████████████████| 8/8 [00:11<00:00,  1.42s/it, loss=2.89]\n",
      ">>> Training epoch 38\n",
      "coco_prefix: 100%|█████████████████████| 8/8 [00:11<00:00,  1.42s/it, loss=2.89]\n",
      ">>> Training epoch 39\n",
      "coco_prefix: 100%|█████████████████████| 8/8 [00:11<00:00,  1.41s/it, loss=2.86]\n",
      ">>> Training epoch 40\n",
      "coco_prefix: 100%|█████████████████████| 8/8 [00:11<00:00,  1.43s/it, loss=2.64]\n",
      ">>> Training epoch 41\n",
      "coco_prefix: 100%|█████████████████████| 8/8 [00:11<00:00,  1.42s/it, loss=2.89]\n",
      ">>> Training epoch 42\n",
      "coco_prefix: 100%|█████████████████████| 8/8 [00:11<00:00,  1.41s/it, loss=2.76]\n",
      ">>> Training epoch 43\n",
      "coco_prefix: 100%|██████████████████████| 8/8 [00:11<00:00,  1.42s/it, loss=2.5]\n",
      ">>> Training epoch 44\n",
      "coco_prefix: 100%|█████████████████████| 8/8 [00:11<00:00,  1.41s/it, loss=2.67]\n",
      ">>> Training epoch 45\n",
      "coco_prefix: 100%|█████████████████████| 8/8 [00:11<00:00,  1.42s/it, loss=2.74]\n",
      ">>> Training epoch 46\n",
      "coco_prefix: 100%|█████████████████████| 8/8 [00:11<00:00,  1.43s/it, loss=2.68]\n",
      ">>> Training epoch 47\n",
      "coco_prefix: 100%|█████████████████████| 8/8 [00:11<00:00,  1.42s/it, loss=2.68]\n",
      ">>> Training epoch 48\n",
      "coco_prefix: 100%|█████████████████████| 8/8 [00:11<00:00,  1.41s/it, loss=2.81]\n",
      ">>> Training epoch 49\n",
      "coco_prefix: 100%|█████████████████████| 8/8 [00:11<00:00,  1.43s/it, loss=2.61]\n",
      ">>> Training epoch 50\n",
      "coco_prefix: 100%|█████████████████████| 8/8 [00:11<00:00,  1.41s/it, loss=2.65]\n",
      ">>> Training epoch 51\n",
      "coco_prefix: 100%|█████████████████████| 8/8 [00:11<00:00,  1.42s/it, loss=2.63]\n",
      ">>> Training epoch 52\n",
      "coco_prefix: 100%|█████████████████████| 8/8 [00:11<00:00,  1.43s/it, loss=2.48]\n",
      ">>> Training epoch 53\n",
      "coco_prefix: 100%|█████████████████████| 8/8 [00:11<00:00,  1.42s/it, loss=2.57]\n",
      ">>> Training epoch 54\n",
      "coco_prefix: 100%|█████████████████████| 8/8 [00:11<00:00,  1.41s/it, loss=2.71]\n",
      ">>> Training epoch 55\n",
      "coco_prefix: 100%|█████████████████████| 8/8 [00:11<00:00,  1.42s/it, loss=2.24]\n",
      ">>> Training epoch 56\n",
      "coco_prefix: 100%|█████████████████████| 8/8 [00:11<00:00,  1.42s/it, loss=2.54]\n",
      ">>> Training epoch 57\n",
      "coco_prefix: 100%|██████████████████████| 8/8 [00:11<00:00,  1.41s/it, loss=2.4]\n",
      ">>> Training epoch 58\n",
      "coco_prefix: 100%|█████████████████████| 8/8 [00:11<00:00,  1.43s/it, loss=2.57]\n",
      ">>> Training epoch 59\n",
      "coco_prefix: 100%|█████████████████████| 8/8 [00:11<00:00,  1.42s/it, loss=2.39]\n",
      ">>> Training epoch 60\n",
      "coco_prefix: 100%|█████████████████████| 8/8 [00:11<00:00,  1.42s/it, loss=2.52]\n",
      ">>> Training epoch 61\n",
      "coco_prefix: 100%|█████████████████████| 8/8 [00:11<00:00,  1.43s/it, loss=2.58]\n",
      ">>> Training epoch 62\n",
      "coco_prefix: 100%|█████████████████████| 8/8 [00:11<00:00,  1.41s/it, loss=2.38]\n",
      ">>> Training epoch 63\n",
      "coco_prefix: 100%|█████████████████████| 8/8 [00:11<00:00,  1.42s/it, loss=2.44]\n",
      ">>> Training epoch 64\n",
      "coco_prefix: 100%|█████████████████████| 8/8 [00:11<00:00,  1.42s/it, loss=2.38]\n",
      ">>> Training epoch 65\n",
      "coco_prefix: 100%|█████████████████████| 8/8 [00:11<00:00,  1.42s/it, loss=2.38]\n",
      ">>> Training epoch 66\n",
      "coco_prefix: 100%|█████████████████████| 8/8 [00:11<00:00,  1.42s/it, loss=2.47]\n",
      ">>> Training epoch 67\n",
      "coco_prefix: 100%|█████████████████████| 8/8 [00:11<00:00,  1.42s/it, loss=2.35]\n",
      ">>> Training epoch 68\n",
      "coco_prefix: 100%|█████████████████████| 8/8 [00:11<00:00,  1.42s/it, loss=2.21]\n",
      ">>> Training epoch 69\n",
      "coco_prefix: 100%|█████████████████████| 8/8 [00:11<00:00,  1.42s/it, loss=2.38]\n",
      ">>> Training epoch 70\n",
      "coco_prefix: 100%|█████████████████████| 8/8 [00:11<00:00,  1.43s/it, loss=2.19]\n",
      ">>> Training epoch 71\n",
      "coco_prefix: 100%|█████████████████████| 8/8 [00:11<00:00,  1.42s/it, loss=2.24]\n",
      ">>> Training epoch 72\n",
      "coco_prefix: 100%|█████████████████████| 8/8 [00:11<00:00,  1.42s/it, loss=2.29]\n",
      ">>> Training epoch 73\n",
      "coco_prefix: 100%|█████████████████████| 8/8 [00:11<00:00,  1.42s/it, loss=2.41]\n",
      ">>> Training epoch 74\n",
      "coco_prefix: 100%|█████████████████████| 8/8 [00:11<00:00,  1.42s/it, loss=2.21]\n",
      ">>> Training epoch 75\n",
      "coco_prefix: 100%|█████████████████████| 8/8 [00:11<00:00,  1.41s/it, loss=2.17]\n",
      ">>> Training epoch 76\n",
      "coco_prefix: 100%|█████████████████████| 8/8 [00:11<00:00,  1.42s/it, loss=2.07]\n",
      ">>> Training epoch 77\n",
      "coco_prefix: 100%|█████████████████████| 8/8 [00:11<00:00,  1.41s/it, loss=2.18]\n",
      ">>> Training epoch 78\n",
      "coco_prefix: 100%|█████████████████████| 8/8 [00:11<00:00,  1.42s/it, loss=2.17]\n",
      ">>> Training epoch 79\n",
      "coco_prefix: 100%|█████████████████████| 8/8 [00:11<00:00,  1.42s/it, loss=2.24]\n",
      ">>> Training epoch 80\n",
      "coco_prefix: 100%|██████████████████████| 8/8 [00:11<00:00,  1.41s/it, loss=2.1]\n",
      ">>> Training epoch 81\n",
      "coco_prefix: 100%|█████████████████████| 8/8 [00:11<00:00,  1.41s/it, loss=2.32]\n",
      ">>> Training epoch 82\n",
      "coco_prefix: 100%|█████████████████████| 8/8 [00:11<00:00,  1.42s/it, loss=2.26]\n",
      ">>> Training epoch 83\n",
      "coco_prefix: 100%|████████████████████████| 8/8 [00:11<00:00,  1.42s/it, loss=2]\n",
      ">>> Training epoch 84\n",
      "coco_prefix: 100%|█████████████████████| 8/8 [00:11<00:00,  1.42s/it, loss=2.13]\n",
      ">>> Training epoch 85\n",
      "coco_prefix: 100%|█████████████████████| 8/8 [00:11<00:00,  1.43s/it, loss=2.21]\n",
      ">>> Training epoch 86\n",
      "coco_prefix: 100%|█████████████████████| 8/8 [00:11<00:00,  1.41s/it, loss=2.08]\n",
      ">>> Training epoch 87\n",
      "coco_prefix: 100%|█████████████████████| 8/8 [00:11<00:00,  1.42s/it, loss=2.13]\n",
      ">>> Training epoch 88\n",
      "coco_prefix: 100%|█████████████████████| 8/8 [00:11<00:00,  1.43s/it, loss=1.98]\n",
      ">>> Training epoch 89\n",
      "coco_prefix: 100%|█████████████████████| 8/8 [00:11<00:00,  1.42s/it, loss=2.33]\n",
      ">>> Training epoch 90\n",
      "coco_prefix: 100%|█████████████████████| 8/8 [00:11<00:00,  1.41s/it, loss=1.96]\n",
      ">>> Training epoch 91\n",
      "coco_prefix: 100%|█████████████████████| 8/8 [00:11<00:00,  1.42s/it, loss=2.12]\n",
      ">>> Training epoch 92\n",
      "coco_prefix: 100%|█████████████████████| 8/8 [00:11<00:00,  1.42s/it, loss=2.19]\n",
      ">>> Training epoch 93\n",
      "coco_prefix: 100%|█████████████████████| 8/8 [00:11<00:00,  1.42s/it, loss=2.37]\n",
      ">>> Training epoch 94\n",
      "coco_prefix: 100%|█████████████████████| 8/8 [00:11<00:00,  1.42s/it, loss=2.08]\n",
      ">>> Training epoch 95\n",
      "coco_prefix: 100%|█████████████████████| 8/8 [00:11<00:00,  1.41s/it, loss=1.91]\n",
      ">>> Training epoch 96\n",
      "coco_prefix: 100%|█████████████████████| 8/8 [00:11<00:00,  1.41s/it, loss=1.99]\n",
      ">>> Training epoch 97\n",
      "coco_prefix: 100%|█████████████████████| 8/8 [00:11<00:00,  1.42s/it, loss=2.34]\n",
      ">>> Training epoch 98\n",
      "coco_prefix: 100%|██████████████████████| 8/8 [00:11<00:00,  1.41s/it, loss=2.1]\n",
      ">>> Training epoch 99\n",
      "coco_prefix: 100%|██████████████████████| 8/8 [00:11<00:00,  1.41s/it, loss=1.9]\n",
      "\u001b[0m"
     ]
    }
   ],
   "source": [
    "!python train.py --data ./data/coco/oscar_split_ViT-B_32_train.pkl --out_dir ./coco_train/ --epochs 200"
   ]
  },
  {
   "cell_type": "code",
   "execution_count": 1,
   "id": "aa9ef1f1",
   "metadata": {},
   "outputs": [],
   "source": [
    "import pandas as pd"
   ]
  },
  {
   "cell_type": "code",
   "execution_count": 2,
   "id": "fc7e06b0",
   "metadata": {},
   "outputs": [],
   "source": [
    "df = pd.read_json('data/coco/annotations/train_caption.json')"
   ]
  },
  {
   "cell_type": "code",
   "execution_count": 3,
   "id": "8d8dd53a",
   "metadata": {},
   "outputs": [
    {
     "data": {
      "text/html": [
       "<div>\n",
       "<style scoped>\n",
       "    .dataframe tbody tr th:only-of-type {\n",
       "        vertical-align: middle;\n",
       "    }\n",
       "\n",
       "    .dataframe tbody tr th {\n",
       "        vertical-align: top;\n",
       "    }\n",
       "\n",
       "    .dataframe thead th {\n",
       "        text-align: right;\n",
       "    }\n",
       "</style>\n",
       "<table border=\"1\" class=\"dataframe\">\n",
       "  <thead>\n",
       "    <tr style=\"text-align: right;\">\n",
       "      <th></th>\n",
       "      <th>image_id</th>\n",
       "      <th>id</th>\n",
       "      <th>caption</th>\n",
       "    </tr>\n",
       "  </thead>\n",
       "  <tbody>\n",
       "    <tr>\n",
       "      <th>0</th>\n",
       "      <td>318556</td>\n",
       "      <td>48</td>\n",
       "      <td>A very clean and well decorated empty bathroom</td>\n",
       "    </tr>\n",
       "    <tr>\n",
       "      <th>1</th>\n",
       "      <td>116100</td>\n",
       "      <td>67</td>\n",
       "      <td>A panoramic view of a kitchen and all of its a...</td>\n",
       "    </tr>\n",
       "    <tr>\n",
       "      <th>2</th>\n",
       "      <td>318556</td>\n",
       "      <td>126</td>\n",
       "      <td>A blue and white bathroom with butterfly theme...</td>\n",
       "    </tr>\n",
       "    <tr>\n",
       "      <th>3</th>\n",
       "      <td>116100</td>\n",
       "      <td>148</td>\n",
       "      <td>A panoramic photo of a kitchen and dining room</td>\n",
       "    </tr>\n",
       "    <tr>\n",
       "      <th>4</th>\n",
       "      <td>379340</td>\n",
       "      <td>173</td>\n",
       "      <td>A graffiti-ed stop sign across the street from...</td>\n",
       "    </tr>\n",
       "  </tbody>\n",
       "</table>\n",
       "</div>"
      ],
      "text/plain": [
       "   image_id   id                                            caption\n",
       "0    318556   48     A very clean and well decorated empty bathroom\n",
       "1    116100   67  A panoramic view of a kitchen and all of its a...\n",
       "2    318556  126  A blue and white bathroom with butterfly theme...\n",
       "3    116100  148     A panoramic photo of a kitchen and dining room\n",
       "4    379340  173  A graffiti-ed stop sign across the street from..."
      ]
     },
     "execution_count": 3,
     "metadata": {},
     "output_type": "execute_result"
    }
   ],
   "source": [
    "df.head()"
   ]
  },
  {
   "cell_type": "code",
   "execution_count": 4,
   "id": "38964707",
   "metadata": {},
   "outputs": [],
   "source": [
    "df1 = df[0:1000]"
   ]
  },
  {
   "cell_type": "code",
   "execution_count": 6,
   "id": "a61505b7",
   "metadata": {},
   "outputs": [
    {
     "data": {
      "text/plain": [
       "(1000, 3)"
      ]
     },
     "execution_count": 6,
     "metadata": {},
     "output_type": "execute_result"
    }
   ],
   "source": [
    "df1.shape"
   ]
  },
  {
   "cell_type": "code",
   "execution_count": 9,
   "id": "a3d1d404",
   "metadata": {},
   "outputs": [],
   "source": [
    "df1.to_json('train_caption.json',orient='records')"
   ]
  }
 ],
 "metadata": {
  "kernelspec": {
   "display_name": "Python 3.6 - AzureML",
   "language": "python",
   "name": "python3-azureml"
  },
  "language_info": {
   "codemirror_mode": {
    "name": "ipython",
    "version": 3
   },
   "file_extension": ".py",
   "mimetype": "text/x-python",
   "name": "python",
   "nbconvert_exporter": "python",
   "pygments_lexer": "ipython3",
   "version": "3.6.9"
  }
 },
 "nbformat": 4,
 "nbformat_minor": 5
}
